{
  "nbformat": 4,
  "nbformat_minor": 0,
  "metadata": {
    "accelerator": "GPU",
    "colab": {
      "name": "Model 2.ipynb",
      "provenance": [],
      "authorship_tag": "ABX9TyOw1Zchg/l18GNlVlaF/nmj",
      "include_colab_link": true
    },
    "kernelspec": {
      "display_name": "Python 3",
      "name": "python3"
    },
    "language_info": {
      "name": "python"
    }
  },
  "cells": [
    {
      "cell_type": "markdown",
      "metadata": {
        "id": "view-in-github",
        "colab_type": "text"
      },
      "source": [
        "<a href=\"https://colab.research.google.com/github/RiskyHermawan/TugasPraktikumML_141_169/blob/main/Model_2.ipynb\" target=\"_parent\"><img src=\"https://colab.research.google.com/assets/colab-badge.svg\" alt=\"Open In Colab\"/></a>"
      ]
    },
    {
      "cell_type": "code",
      "metadata": {
        "colab": {
          "base_uri": "https://localhost:8080/"
        },
        "id": "dOxV9QxFAyAb",
        "outputId": "ee953460-a04c-4c2f-f37e-4b20e049e5fe"
      },
      "source": [
        "from google.colab import drive\n",
        "drive.mount('/content/drive')"
      ],
      "execution_count": 2,
      "outputs": [
        {
          "output_type": "stream",
          "name": "stdout",
          "text": [
            "Mounted at /content/drive\n"
          ]
        }
      ]
    },
    {
      "cell_type": "code",
      "metadata": {
        "colab": {
          "base_uri": "https://localhost:8080/"
        },
        "id": "Q5nWOc22XwOJ",
        "outputId": "2913d7f0-e06e-46d2-d15c-3640f6e85fb6"
      },
      "source": [
        "# masuk ke directory penyimpanan dataset anda\n",
        "%cd /content/drive/MyDrive/kaggle"
      ],
      "execution_count": 3,
      "outputs": [
        {
          "output_type": "stream",
          "name": "stdout",
          "text": [
            "/content/drive/MyDrive/kaggle\n"
          ]
        }
      ]
    },
    {
      "cell_type": "code",
      "metadata": {
        "colab": {
          "base_uri": "https://localhost:8080/"
        },
        "id": "7qhYtXEJXz5X",
        "outputId": "b7e9ae2d-fcf5-4795-ff07-1d59fab415e8"
      },
      "source": [
        "!ls"
      ],
      "execution_count": 4,
      "outputs": [
        {
          "output_type": "stream",
          "name": "stdout",
          "text": [
            " breakhis-400x.zip\t\t       'SOB_B_A-14-22549AB-400-001 (2).png'\n",
            " cat2dog.zip\t\t\t       'SOB_B_A-14-22549AB-400-001 (3).png'\n",
            " flowers-recognition.zip\t       'SOB_B_A-14-22549AB-400-001 (4).png'\n",
            " kaggle.json\t\t\t       'SOB_B_A-14-22549AB-400-001 (5).png'\n",
            " model.h5\t\t\t       'SOB_B_A-14-22549AB-400-001 (6).png'\n",
            " model.json\t\t\t       'SOB_B_A-14-22549AB-400-001 (7).png'\n",
            " rockpaperscissors.zip\t\t       'SOB_B_A-14-22549AB-400-001 (8).png'\n",
            " rose_new.jpg\t\t\t       'SOB_B_A-14-22549AB-400-001 (9).png'\n",
            "'SOB_B_A-14-22549AB-400-001 (10).png'   SOB_B_A-14-22549AB-400-001.png\n",
            "'SOB_B_A-14-22549AB-400-001 (11).png'   x_test.npy\n",
            "'SOB_B_A-14-22549AB-400-001 (12).png'   x_train.npy\n",
            "'SOB_B_A-14-22549AB-400-001 (13).png'   x_val.npy\n",
            "'SOB_B_A-14-22549AB-400-001 (14).png'   y_test.npy\n",
            "'SOB_B_A-14-22549AB-400-001 (15).png'   y_train.npy\n",
            "'SOB_B_A-14-22549AB-400-001 (16).png'   y_val.npy\n",
            "'SOB_B_A-14-22549AB-400-001 (1).png'\n"
          ]
        }
      ]
    },
    {
      "cell_type": "code",
      "metadata": {
        "id": "lkYhinWiX03k"
      },
      "source": [
        "import numpy as np\n",
        "\n",
        "x_train = np.load(\"x_train.npy\")\n",
        "x_val = np.load(\"x_val.npy\")\n",
        "x_test = np.load(\"x_test.npy\")\n",
        "y_train = np.load(\"y_train.npy\")\n",
        "y_val = np.load(\"y_val.npy\")\n",
        "y_test = np.load(\"y_test.npy\")"
      ],
      "execution_count": 5,
      "outputs": []
    },
    {
      "cell_type": "code",
      "metadata": {
        "id": "MYonq3H7X3Bq"
      },
      "source": [
        "from tensorflow.keras.models import Sequential\n",
        "from tensorflow.keras.layers import InputLayer, Dense, Conv2D, MaxPool2D, Flatten\n",
        "import tensorflow as tf"
      ],
      "execution_count": 6,
      "outputs": []
    },
    {
      "cell_type": "code",
      "metadata": {
        "colab": {
          "base_uri": "https://localhost:8080/"
        },
        "id": "w36UjGC7X480",
        "outputId": "eaa9ee3e-b4db-407b-a302-e17449f30b6e"
      },
      "source": [
        "model2 = tf.keras.models.Sequential([\n",
        "    tf.keras.layers.Conv2D(32, (3,3), activation='relu', input_shape=(250, 250, 3)),\n",
        "    tf.keras.layers.AveragePooling2D(2, 2), #metode averagepooling mengambil nilai rata rata pergerseran pixel yang ada\n",
        "    tf.keras.layers.GlobalAveragePooling2D(), #globalaveragepooling\n",
        "    tf.keras.layers.Flatten(),\n",
        "    tf.keras.layers.Dense(32, activation='relu'),\n",
        "    tf.keras.layers.Dense(64, activation='relu'),\n",
        "    tf.keras.layers.Dense(128, activation='relu'),\n",
        "    tf.keras.layers.Dense(1, activation='sigmoid')\n",
        "])\n",
        "\n",
        "print (\"Model 2 metode averagepooling\")\n",
        "model2.summary()"
      ],
      "execution_count": 7,
      "outputs": [
        {
          "output_type": "stream",
          "name": "stdout",
          "text": [
            "Model 2 metode averagepooling\n",
            "Model: \"sequential\"\n",
            "_________________________________________________________________\n",
            "Layer (type)                 Output Shape              Param #   \n",
            "=================================================================\n",
            "conv2d (Conv2D)              (None, 248, 248, 32)      896       \n",
            "_________________________________________________________________\n",
            "average_pooling2d (AveragePo (None, 124, 124, 32)      0         \n",
            "_________________________________________________________________\n",
            "global_average_pooling2d (Gl (None, 32)                0         \n",
            "_________________________________________________________________\n",
            "flatten (Flatten)            (None, 32)                0         \n",
            "_________________________________________________________________\n",
            "dense (Dense)                (None, 32)                1056      \n",
            "_________________________________________________________________\n",
            "dense_1 (Dense)              (None, 64)                2112      \n",
            "_________________________________________________________________\n",
            "dense_2 (Dense)              (None, 128)               8320      \n",
            "_________________________________________________________________\n",
            "dense_3 (Dense)              (None, 1)                 129       \n",
            "=================================================================\n",
            "Total params: 12,513\n",
            "Trainable params: 12,513\n",
            "Non-trainable params: 0\n",
            "_________________________________________________________________\n"
          ]
        }
      ]
    },
    {
      "cell_type": "code",
      "metadata": {
        "colab": {
          "base_uri": "https://localhost:8080/"
        },
        "id": "3IJbHEsCX_41",
        "outputId": "d97c0d04-0c6b-4da6-c743-cc665e6a33a8"
      },
      "source": [
        "from tensorflow.keras.optimizers import Adam\n",
        "\n",
        "model2.compile(optimizer=Adam(lr=0.001), \n",
        "              loss='binary_crossentropy', \n",
        "              metrics=['acc'])"
      ],
      "execution_count": 8,
      "outputs": [
        {
          "output_type": "stream",
          "name": "stderr",
          "text": [
            "/usr/local/lib/python3.7/dist-packages/keras/optimizer_v2/optimizer_v2.py:356: UserWarning: The `lr` argument is deprecated, use `learning_rate` instead.\n",
            "  \"The `lr` argument is deprecated, use `learning_rate` instead.\")\n"
          ]
        }
      ]
    },
    {
      "cell_type": "code",
      "metadata": {
        "id": "BLdqGaMZYBI5",
        "colab": {
          "base_uri": "https://localhost:8080/"
        },
        "outputId": "0a5fad0c-822a-4a95-9ade-c915a1814d34"
      },
      "source": [
        "NN = model2.fit(x_train, y_train, \n",
        "              batch_size=64, \n",
        "              epochs=100, \n",
        "              validation_data=(x_val, y_val), \n",
        "              verbose=2)"
      ],
      "execution_count": 9,
      "outputs": [
        {
          "output_type": "stream",
          "name": "stdout",
          "text": [
            "Epoch 1/100\n",
            "54/54 - 37s - loss: -6.2787e+00 - acc: 0.2433 - val_loss: -3.5903e+01 - val_acc: 0.2436\n",
            "Epoch 2/100\n",
            "54/54 - 4s - loss: -4.7111e+02 - acc: 0.2436 - val_loss: -1.7074e+03 - val_acc: 0.2436\n",
            "Epoch 3/100\n",
            "54/54 - 4s - loss: -8.1294e+03 - acc: 0.2436 - val_loss: -2.1386e+04 - val_acc: 0.2436\n",
            "Epoch 4/100\n",
            "54/54 - 4s - loss: -6.3728e+04 - acc: 0.2436 - val_loss: -1.3141e+05 - val_acc: 0.2436\n",
            "Epoch 5/100\n",
            "54/54 - 4s - loss: -2.9299e+05 - acc: 0.2436 - val_loss: -5.2324e+05 - val_acc: 0.2436\n",
            "Epoch 6/100\n",
            "54/54 - 4s - loss: -9.6927e+05 - acc: 0.2436 - val_loss: -1.5696e+06 - val_acc: 0.2436\n",
            "Epoch 7/100\n",
            "54/54 - 4s - loss: -2.5726e+06 - acc: 0.2436 - val_loss: -3.8517e+06 - val_acc: 0.2436\n",
            "Epoch 8/100\n",
            "54/54 - 4s - loss: -5.8419e+06 - acc: 0.2436 - val_loss: -8.2556e+06 - val_acc: 0.2436\n",
            "Epoch 9/100\n",
            "54/54 - 4s - loss: -1.1880e+07 - acc: 0.2436 - val_loss: -1.5956e+07 - val_acc: 0.2436\n",
            "Epoch 10/100\n",
            "54/54 - 4s - loss: -2.2027e+07 - acc: 0.2436 - val_loss: -2.8602e+07 - val_acc: 0.2436\n",
            "Epoch 11/100\n",
            "54/54 - 4s - loss: -3.7920e+07 - acc: 0.2436 - val_loss: -4.7922e+07 - val_acc: 0.2436\n",
            "Epoch 12/100\n",
            "54/54 - 4s - loss: -6.1773e+07 - acc: 0.2436 - val_loss: -7.6140e+07 - val_acc: 0.2436\n",
            "Epoch 13/100\n",
            "54/54 - 4s - loss: -9.5909e+07 - acc: 0.2436 - val_loss: -1.1585e+08 - val_acc: 0.2436\n",
            "Epoch 14/100\n",
            "54/54 - 4s - loss: -1.4314e+08 - acc: 0.2436 - val_loss: -1.7062e+08 - val_acc: 0.2436\n",
            "Epoch 15/100\n",
            "54/54 - 4s - loss: -2.0689e+08 - acc: 0.2436 - val_loss: -2.4285e+08 - val_acc: 0.2436\n",
            "Epoch 16/100\n",
            "54/54 - 4s - loss: -2.9006e+08 - acc: 0.2436 - val_loss: -3.3768e+08 - val_acc: 0.2436\n",
            "Epoch 17/100\n",
            "54/54 - 4s - loss: -3.9756e+08 - acc: 0.2436 - val_loss: -4.5498e+08 - val_acc: 0.2436\n",
            "Epoch 18/100\n",
            "54/54 - 4s - loss: -5.3284e+08 - acc: 0.2436 - val_loss: -6.0391e+08 - val_acc: 0.2436\n",
            "Epoch 19/100\n",
            "54/54 - 4s - loss: -7.0099e+08 - acc: 0.2436 - val_loss: -7.8866e+08 - val_acc: 0.2436\n",
            "Epoch 20/100\n",
            "54/54 - 4s - loss: -9.0717e+08 - acc: 0.2436 - val_loss: -1.0141e+09 - val_acc: 0.2436\n",
            "Epoch 21/100\n",
            "54/54 - 4s - loss: -1.1579e+09 - acc: 0.2436 - val_loss: -1.2823e+09 - val_acc: 0.2436\n",
            "Epoch 22/100\n",
            "54/54 - 4s - loss: -1.4563e+09 - acc: 0.2436 - val_loss: -1.6057e+09 - val_acc: 0.2436\n",
            "Epoch 23/100\n",
            "54/54 - 4s - loss: -1.8096e+09 - acc: 0.2436 - val_loss: -1.9849e+09 - val_acc: 0.2436\n",
            "Epoch 24/100\n",
            "54/54 - 4s - loss: -2.2234e+09 - acc: 0.2436 - val_loss: -2.4292e+09 - val_acc: 0.2436\n",
            "Epoch 25/100\n",
            "54/54 - 4s - loss: -2.7065e+09 - acc: 0.2436 - val_loss: -2.9376e+09 - val_acc: 0.2436\n",
            "Epoch 26/100\n",
            "54/54 - 4s - loss: -3.2623e+09 - acc: 0.2436 - val_loss: -3.5274e+09 - val_acc: 0.2436\n",
            "Epoch 27/100\n",
            "54/54 - 4s - loss: -3.8984e+09 - acc: 0.2436 - val_loss: -4.2008e+09 - val_acc: 0.2436\n",
            "Epoch 28/100\n",
            "54/54 - 4s - loss: -4.6266e+09 - acc: 0.2436 - val_loss: -4.9614e+09 - val_acc: 0.2436\n",
            "Epoch 29/100\n",
            "54/54 - 4s - loss: -5.4484e+09 - acc: 0.2436 - val_loss: -5.8320e+09 - val_acc: 0.2436\n",
            "Epoch 30/100\n",
            "54/54 - 4s - loss: -6.3802e+09 - acc: 0.2436 - val_loss: -6.7969e+09 - val_acc: 0.2436\n",
            "Epoch 31/100\n",
            "54/54 - 4s - loss: -7.4223e+09 - acc: 0.2436 - val_loss: -7.8839e+09 - val_acc: 0.2436\n",
            "Epoch 32/100\n",
            "54/54 - 4s - loss: -8.5844e+09 - acc: 0.2436 - val_loss: -9.0962e+09 - val_acc: 0.2436\n",
            "Epoch 33/100\n",
            "54/54 - 4s - loss: -9.8710e+09 - acc: 0.2436 - val_loss: -1.0453e+10 - val_acc: 0.2436\n",
            "Epoch 34/100\n",
            "54/54 - 4s - loss: -1.1302e+10 - acc: 0.2436 - val_loss: -1.1929e+10 - val_acc: 0.2436\n",
            "Epoch 35/100\n",
            "54/54 - 4s - loss: -1.2879e+10 - acc: 0.2436 - val_loss: -1.3559e+10 - val_acc: 0.2436\n",
            "Epoch 36/100\n",
            "54/54 - 4s - loss: -1.4611e+10 - acc: 0.2436 - val_loss: -1.5359e+10 - val_acc: 0.2436\n",
            "Epoch 37/100\n",
            "54/54 - 4s - loss: -1.6517e+10 - acc: 0.2436 - val_loss: -1.7303e+10 - val_acc: 0.2436\n",
            "Epoch 38/100\n",
            "54/54 - 4s - loss: -1.8586e+10 - acc: 0.2436 - val_loss: -1.9460e+10 - val_acc: 0.2436\n",
            "Epoch 39/100\n",
            "54/54 - 4s - loss: -2.0841e+10 - acc: 0.2436 - val_loss: -2.1797e+10 - val_acc: 0.2436\n",
            "Epoch 40/100\n",
            "54/54 - 4s - loss: -2.3300e+10 - acc: 0.2436 - val_loss: -2.4304e+10 - val_acc: 0.2436\n",
            "Epoch 41/100\n",
            "54/54 - 4s - loss: -2.5956e+10 - acc: 0.2436 - val_loss: -2.7043e+10 - val_acc: 0.2436\n",
            "Epoch 42/100\n",
            "54/54 - 4s - loss: -2.8826e+10 - acc: 0.2436 - val_loss: -3.0005e+10 - val_acc: 0.2436\n",
            "Epoch 43/100\n",
            "54/54 - 4s - loss: -3.1943e+10 - acc: 0.2436 - val_loss: -3.3118e+10 - val_acc: 0.2436\n",
            "Epoch 44/100\n",
            "54/54 - 4s - loss: -3.5256e+10 - acc: 0.2436 - val_loss: -3.6580e+10 - val_acc: 0.2436\n",
            "Epoch 45/100\n",
            "54/54 - 4s - loss: -3.8852e+10 - acc: 0.2436 - val_loss: -4.0187e+10 - val_acc: 0.2436\n",
            "Epoch 46/100\n",
            "54/54 - 4s - loss: -4.2670e+10 - acc: 0.2436 - val_loss: -4.4116e+10 - val_acc: 0.2436\n",
            "Epoch 47/100\n",
            "54/54 - 4s - loss: -4.6767e+10 - acc: 0.2436 - val_loss: -4.8333e+10 - val_acc: 0.2436\n",
            "Epoch 48/100\n",
            "54/54 - 4s - loss: -5.1154e+10 - acc: 0.2436 - val_loss: -5.2776e+10 - val_acc: 0.2436\n",
            "Epoch 49/100\n",
            "54/54 - 4s - loss: -5.5828e+10 - acc: 0.2436 - val_loss: -5.7490e+10 - val_acc: 0.2436\n",
            "Epoch 50/100\n",
            "54/54 - 4s - loss: -6.0774e+10 - acc: 0.2436 - val_loss: -6.2635e+10 - val_acc: 0.2436\n",
            "Epoch 51/100\n",
            "54/54 - 4s - loss: -6.6086e+10 - acc: 0.2436 - val_loss: -6.7939e+10 - val_acc: 0.2436\n",
            "Epoch 52/100\n",
            "54/54 - 4s - loss: -7.1689e+10 - acc: 0.2436 - val_loss: -7.3645e+10 - val_acc: 0.2436\n",
            "Epoch 53/100\n",
            "54/54 - 4s - loss: -7.7633e+10 - acc: 0.2436 - val_loss: -7.9714e+10 - val_acc: 0.2436\n",
            "Epoch 54/100\n",
            "54/54 - 4s - loss: -8.3934e+10 - acc: 0.2436 - val_loss: -8.6117e+10 - val_acc: 0.2436\n",
            "Epoch 55/100\n",
            "54/54 - 4s - loss: -9.0590e+10 - acc: 0.2436 - val_loss: -9.2854e+10 - val_acc: 0.2436\n",
            "Epoch 56/100\n",
            "54/54 - 4s - loss: -9.7614e+10 - acc: 0.2436 - val_loss: -9.9977e+10 - val_acc: 0.2436\n",
            "Epoch 57/100\n",
            "54/54 - 4s - loss: -1.0502e+11 - acc: 0.2436 - val_loss: -1.0750e+11 - val_acc: 0.2436\n",
            "Epoch 58/100\n",
            "54/54 - 4s - loss: -1.1283e+11 - acc: 0.2436 - val_loss: -1.1535e+11 - val_acc: 0.2436\n",
            "Epoch 59/100\n",
            "54/54 - 4s - loss: -1.2102e+11 - acc: 0.2436 - val_loss: -1.2369e+11 - val_acc: 0.2436\n",
            "Epoch 60/100\n",
            "54/54 - 4s - loss: -1.2966e+11 - acc: 0.2436 - val_loss: -1.3234e+11 - val_acc: 0.2436\n",
            "Epoch 61/100\n",
            "54/54 - 4s - loss: -1.3869e+11 - acc: 0.2436 - val_loss: -1.4154e+11 - val_acc: 0.2436\n",
            "Epoch 62/100\n",
            "54/54 - 4s - loss: -1.4819e+11 - acc: 0.2436 - val_loss: -1.5118e+11 - val_acc: 0.2436\n",
            "Epoch 63/100\n",
            "54/54 - 4s - loss: -1.5816e+11 - acc: 0.2436 - val_loss: -1.6125e+11 - val_acc: 0.2436\n",
            "Epoch 64/100\n",
            "54/54 - 4s - loss: -1.6858e+11 - acc: 0.2436 - val_loss: -1.7179e+11 - val_acc: 0.2436\n",
            "Epoch 65/100\n",
            "54/54 - 4s - loss: -1.7951e+11 - acc: 0.2436 - val_loss: -1.8284e+11 - val_acc: 0.2436\n",
            "Epoch 66/100\n",
            "54/54 - 4s - loss: -1.9090e+11 - acc: 0.2436 - val_loss: -1.9447e+11 - val_acc: 0.2436\n",
            "Epoch 67/100\n",
            "54/54 - 4s - loss: -2.0286e+11 - acc: 0.2436 - val_loss: -2.0640e+11 - val_acc: 0.2436\n",
            "Epoch 68/100\n",
            "54/54 - 4s - loss: -2.1529e+11 - acc: 0.2436 - val_loss: -2.1887e+11 - val_acc: 0.2436\n",
            "Epoch 69/100\n",
            "54/54 - 4s - loss: -2.2826e+11 - acc: 0.2436 - val_loss: -2.3185e+11 - val_acc: 0.2436\n",
            "Epoch 70/100\n",
            "54/54 - 4s - loss: -2.4175e+11 - acc: 0.2436 - val_loss: -2.4556e+11 - val_acc: 0.2436\n",
            "Epoch 71/100\n",
            "54/54 - 4s - loss: -2.5583e+11 - acc: 0.2436 - val_loss: -2.5983e+11 - val_acc: 0.2436\n",
            "Epoch 72/100\n",
            "54/54 - 4s - loss: -2.7053e+11 - acc: 0.2436 - val_loss: -2.7450e+11 - val_acc: 0.2436\n",
            "Epoch 73/100\n",
            "54/54 - 4s - loss: -2.8574e+11 - acc: 0.2436 - val_loss: -2.8996e+11 - val_acc: 0.2436\n",
            "Epoch 74/100\n",
            "54/54 - 4s - loss: -3.0169e+11 - acc: 0.2436 - val_loss: -3.0573e+11 - val_acc: 0.2436\n",
            "Epoch 75/100\n",
            "54/54 - 4s - loss: -3.1811e+11 - acc: 0.2436 - val_loss: -3.2253e+11 - val_acc: 0.2436\n",
            "Epoch 76/100\n",
            "54/54 - 4s - loss: -3.3535e+11 - acc: 0.2436 - val_loss: -3.3957e+11 - val_acc: 0.2436\n",
            "Epoch 77/100\n",
            "54/54 - 4s - loss: -3.5308e+11 - acc: 0.2436 - val_loss: -3.5772e+11 - val_acc: 0.2436\n",
            "Epoch 78/100\n",
            "54/54 - 4s - loss: -3.7161e+11 - acc: 0.2436 - val_loss: -3.7628e+11 - val_acc: 0.2436\n",
            "Epoch 79/100\n",
            "54/54 - 4s - loss: -3.9082e+11 - acc: 0.2436 - val_loss: -3.9538e+11 - val_acc: 0.2436\n",
            "Epoch 80/100\n",
            "54/54 - 4s - loss: -4.1060e+11 - acc: 0.2436 - val_loss: -4.1555e+11 - val_acc: 0.2436\n",
            "Epoch 81/100\n",
            "54/54 - 4s - loss: -4.3125e+11 - acc: 0.2436 - val_loss: -4.3612e+11 - val_acc: 0.2436\n",
            "Epoch 82/100\n",
            "54/54 - 4s - loss: -4.5252e+11 - acc: 0.2436 - val_loss: -4.5770e+11 - val_acc: 0.2436\n",
            "Epoch 83/100\n",
            "54/54 - 4s - loss: -4.7459e+11 - acc: 0.2436 - val_loss: -4.7981e+11 - val_acc: 0.2436\n",
            "Epoch 84/100\n",
            "54/54 - 4s - loss: -4.9744e+11 - acc: 0.2436 - val_loss: -5.0247e+11 - val_acc: 0.2436\n",
            "Epoch 85/100\n",
            "54/54 - 4s - loss: -5.2099e+11 - acc: 0.2436 - val_loss: -5.2624e+11 - val_acc: 0.2436\n",
            "Epoch 86/100\n",
            "54/54 - 4s - loss: -5.4537e+11 - acc: 0.2436 - val_loss: -5.5092e+11 - val_acc: 0.2436\n",
            "Epoch 87/100\n",
            "54/54 - 4s - loss: -5.7064e+11 - acc: 0.2436 - val_loss: -5.7602e+11 - val_acc: 0.2436\n",
            "Epoch 88/100\n",
            "54/54 - 4s - loss: -5.9667e+11 - acc: 0.2436 - val_loss: -6.0209e+11 - val_acc: 0.2436\n",
            "Epoch 89/100\n",
            "54/54 - 4s - loss: -6.2360e+11 - acc: 0.2436 - val_loss: -6.2888e+11 - val_acc: 0.2436\n",
            "Epoch 90/100\n",
            "54/54 - 4s - loss: -6.5128e+11 - acc: 0.2436 - val_loss: -6.5694e+11 - val_acc: 0.2436\n",
            "Epoch 91/100\n",
            "54/54 - 4s - loss: -6.7998e+11 - acc: 0.2436 - val_loss: -6.8555e+11 - val_acc: 0.2436\n",
            "Epoch 92/100\n",
            "54/54 - 4s - loss: -7.0949e+11 - acc: 0.2436 - val_loss: -7.1515e+11 - val_acc: 0.2436\n",
            "Epoch 93/100\n",
            "54/54 - 4s - loss: -7.3992e+11 - acc: 0.2436 - val_loss: -7.4578e+11 - val_acc: 0.2436\n",
            "Epoch 94/100\n",
            "54/54 - 4s - loss: -7.7116e+11 - acc: 0.2436 - val_loss: -7.7769e+11 - val_acc: 0.2436\n",
            "Epoch 95/100\n",
            "54/54 - 4s - loss: -8.0357e+11 - acc: 0.2436 - val_loss: -8.0963e+11 - val_acc: 0.2436\n",
            "Epoch 96/100\n",
            "54/54 - 4s - loss: -8.3675e+11 - acc: 0.2436 - val_loss: -8.4270e+11 - val_acc: 0.2436\n",
            "Epoch 97/100\n",
            "54/54 - 4s - loss: -8.7101e+11 - acc: 0.2436 - val_loss: -8.7659e+11 - val_acc: 0.2436\n",
            "Epoch 98/100\n",
            "54/54 - 4s - loss: -9.0617e+11 - acc: 0.2436 - val_loss: -9.1202e+11 - val_acc: 0.2436\n",
            "Epoch 99/100\n",
            "54/54 - 4s - loss: -9.4249e+11 - acc: 0.2436 - val_loss: -9.4828e+11 - val_acc: 0.2436\n",
            "Epoch 100/100\n",
            "54/54 - 4s - loss: -9.7977e+11 - acc: 0.2436 - val_loss: -9.8585e+11 - val_acc: 0.2436\n"
          ]
        }
      ]
    },
    {
      "cell_type": "code",
      "metadata": {
        "id": "5FVfNZ8OYL_C",
        "colab": {
          "base_uri": "https://localhost:8080/",
          "height": 298
        },
        "outputId": "559c02c4-d99e-4945-ab4f-149f164821b1"
      },
      "source": [
        "#Plot hasil training model berupa hasil validasi akurasi dan Buat report klasifikasi beserta dengan keterangan labelnya\n",
        "import matplotlib.pyplot as plt\n",
        "plt.style.use(\"ggplot\")\n",
        "plt.figure()\n",
        "plt.plot(np.arange(0, 100), NN.history[\"acc\"], label=\"acc_model_2\")\n",
        "plt.plot(np.arange(0, 100), NN.history[\"val_acc\"], label=\"val_acc_model_2\")\n",
        "plt.title(\"Acc Result Plot\")\n",
        "plt.xlabel(\"Epoch #\")\n",
        "plt.ylabel(\"Acc\")\n",
        "plt.legend()\n",
        "plt.show()"
      ],
      "execution_count": 10,
      "outputs": [
        {
          "output_type": "display_data",
          "data": {
            "image/png": "[encoded data removed]",
            "text/plain": [
              "<Figure size 432x288 with 1 Axes>"
            ]
          },
          "metadata": {}
        }
      ]
    },
    {
      "cell_type": "code",
      "metadata": {
        "id": "-cIh1xAzYOBZ",
        "colab": {
          "base_uri": "https://localhost:8080/",
          "height": 298
        },
        "outputId": "067c958b-4ee0-4375-8e30-e237d4436ac1"
      },
      "source": [
        "#Plot hasil training model berupa hasil validasi loss dan Buat report klasifikasi beserta dengan keterangan labelnya\n",
        "import matplotlib.pyplot as plt\n",
        "plt.style.use(\"ggplot\")\n",
        "plt.figure()\n",
        "plt.plot(np.arange(0, 100), NN.history[\"loss\"], label=\"loss_model_2\")\n",
        "plt.plot(np.arange(0, 100), NN.history[\"val_loss\"], label=\"val_loss_model_2\")\n",
        "plt.title(\"Loss Result Plot\")\n",
        "plt.xlabel(\"Epoch #\")\n",
        "plt.ylabel(\"Loss\")\n",
        "plt.legend()\n",
        "plt.show()"
      ],
      "execution_count": 11,
      "outputs": [
        {
          "output_type": "display_data",
          "data": {
            "image/png": "[encoded data removed]",
            "text/plain": [
              "<Figure size 432x288 with 1 Axes>"
            ]
          },
          "metadata": {}
        }
      ]
    },
    {
      "cell_type": "code",
      "metadata": {
        "colab": {
          "base_uri": "https://localhost:8080/"
        },
        "id": "hlf8_yNAYQHg",
        "outputId": "6fb0bdda-8eb5-443a-cdaf-b853abfcbc22"
      },
      "source": [
        "#model 2\n",
        "from sklearn.metrics import classification_report\n",
        "\n",
        "pred = model2.predict(x_train)\n",
        "labels = (pred > 0.5).astype(np.int)\n",
        "\n",
        "print(classification_report(y_train, labels))"
      ],
      "execution_count": 12,
      "outputs": [
        {
          "output_type": "stream",
          "name": "stdout",
          "text": [
            "              precision    recall  f1-score   support\n",
            "\n",
            "           0       0.00      0.00      0.00       611\n",
            "           1       0.24      1.00      0.39       841\n",
            "           2       0.00      0.00      0.00       627\n",
            "           3       0.00      0.00      0.00       586\n",
            "           4       0.00      0.00      0.00       787\n",
            "\n",
            "    accuracy                           0.24      3452\n",
            "   macro avg       0.05      0.20      0.08      3452\n",
            "weighted avg       0.06      0.24      0.10      3452\n",
            "\n"
          ]
        },
        {
          "output_type": "stream",
          "name": "stderr",
          "text": [
            "/usr/local/lib/python3.7/dist-packages/sklearn/metrics/_classification.py:1272: UndefinedMetricWarning: Precision and F-score are ill-defined and being set to 0.0 in labels with no predicted samples. Use `zero_division` parameter to control this behavior.\n",
            "  _warn_prf(average, modifier, msg_start, len(result))\n"
          ]
        }
      ]
    }
  ]
}