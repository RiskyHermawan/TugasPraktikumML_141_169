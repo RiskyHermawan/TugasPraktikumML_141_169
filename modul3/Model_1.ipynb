{
  "nbformat": 4,
  "nbformat_minor": 0,
  "metadata": {
    "colab": {
      "name": "Model 1.ipynb",
      "provenance": [],
      "collapsed_sections": []
    },
    "kernelspec": {
      "name": "python3",
      "display_name": "Python 3"
    },
    "language_info": {
      "name": "python"
    }
  },
  "cells": [
    {
      "cell_type": "code",
      "metadata": {
        "colab": {
          "base_uri": "https://localhost:8080/"
        },
        "id": "6fvdNPBdBfUu",
        "outputId": "9d385b1a-714d-4e55-bb54-d2e5434c3c32"
      },
      "source": [
        "from google.colab import drive\n",
        "drive.mount('/content/drive')"
      ],
      "execution_count": null,
      "outputs": [
        {
          "output_type": "stream",
          "name": "stdout",
          "text": [
            "Drive already mounted at /content/drive; to attempt to forcibly remount, call drive.mount(\"/content/drive\", force_remount=True).\n"
          ]
        }
      ]
    },
    {
      "cell_type": "code",
      "metadata": {
        "colab": {
          "base_uri": "https://localhost:8080/"
        },
        "id": "zmmXxwgvBfLp",
        "outputId": "a4b47983-97a2-4971-d820-a52ed6a6994c"
      },
      "source": [
        "# masuk ke directory penyimpanan dataset anda\n",
        "%cd /content/drive/MyDrive/kaggle"
      ],
      "execution_count": null,
      "outputs": [
        {
          "output_type": "stream",
          "name": "stdout",
          "text": [
            "/content/drive/MyDrive/kaggle\n"
          ]
        }
      ]
    },
    {
      "cell_type": "code",
      "metadata": {
        "colab": {
          "base_uri": "https://localhost:8080/"
        },
        "id": "FbY5FAZgCDfr",
        "outputId": "998aecbc-c261-430b-f066-76e09b099214"
      },
      "source": [
        "!ls"
      ],
      "execution_count": null,
      "outputs": [
        {
          "output_type": "stream",
          "name": "stdout",
          "text": [
            "kaggle.json\t\t\tx_test.npy   x_val.npy\t y_train.npy\n",
            "new-plant-diseases-dataset.zip\tx_train.npy  y_test.npy  y_val.npy\n"
          ]
        }
      ]
    },
    {
      "cell_type": "code",
      "metadata": {
        "id": "KZ_0jfkK-0fz"
      },
      "source": [
        "import numpy as np\n",
        "\n",
        "x_train = np.load(\"x_train.npy\")\n",
        "x_val = np.load(\"x_val.npy\")\n",
        "x_test = np.load(\"x_test.npy\")\n",
        "y_train = np.load(\"y_train.npy\")\n",
        "y_val = np.load(\"y_val.npy\")\n",
        "y_test = np.load(\"y_test.npy\")"
      ],
      "execution_count": null,
      "outputs": []
    },
    {
      "cell_type": "code",
      "metadata": {
        "id": "Eaz2e7WnCzig"
      },
      "source": [
        "from tensorflow.keras.models import Sequential\n",
        "from tensorflow.keras.layers import InputLayer, Dense, Conv2D, MaxPool2D, Flatten\n",
        "import tensorflow as tf"
      ],
      "execution_count": null,
      "outputs": []
    },
    {
      "cell_type": "code",
      "metadata": {
        "colab": {
          "base_uri": "https://localhost:8080/"
        },
        "id": "DgB4-KXXC0H6",
        "outputId": "6ab7ef45-9d06-43e9-f823-ce91a9c51216"
      },
      "source": [
        "#model1 \n",
        "model1 = tf.keras.models.Sequential([\n",
        "    tf.keras.layers.Conv2D(32, (3,3), activation='relu', input_shape=(250, 250, 3)),\n",
        "    tf.keras.layers.MaxPooling2D(2, 2), #metode maxpooling mengambil nilai maksium pergerseran pixel yang ada\n",
        "    tf.keras.layers.GlobalMaxPooling2D(), #globalmaxpooling\n",
        "    tf.keras.layers.Flatten(),\n",
        "    tf.keras.layers.Dense(64, activation='relu'),\n",
        "    tf.keras.layers.Dense(128, activation='relu'),\n",
        "    tf.keras.layers.Dense(1, activation='sigmoid')\n",
        "])\n",
        "\n",
        "print (\"Model 1 metode maxpooling\")\n",
        "model1.summary()"
      ],
      "execution_count": null,
      "outputs": [
        {
          "output_type": "stream",
          "name": "stdout",
          "text": [
            "Model 1 metode maxpooling\n",
            "Model: \"sequential\"\n",
            "_________________________________________________________________\n",
            " Layer (type)                Output Shape              Param #   \n",
            "=================================================================\n",
            " conv2d (Conv2D)             (None, 248, 248, 32)      896       \n",
            "                                                                 \n",
            " max_pooling2d (MaxPooling2D  (None, 124, 124, 32)     0         \n",
            " )                                                               \n",
            "                                                                 \n",
            " global_max_pooling2d (Globa  (None, 32)               0         \n",
            " lMaxPooling2D)                                                  \n",
            "                                                                 \n",
            " flatten (Flatten)           (None, 32)                0         \n",
            "                                                                 \n",
            " dense (Dense)               (None, 64)                2112      \n",
            "                                                                 \n",
            " dense_1 (Dense)             (None, 128)               8320      \n",
            "                                                                 \n",
            " dense_2 (Dense)             (None, 1)                 129       \n",
            "                                                                 \n",
            "=================================================================\n",
            "Total params: 11,457\n",
            "Trainable params: 11,457\n",
            "Non-trainable params: 0\n",
            "_________________________________________________________________\n"
          ]
        }
      ]
    },
    {
      "cell_type": "code",
      "metadata": {
        "colab": {
          "base_uri": "https://localhost:8080/"
        },
        "id": "RAYZV3aHC8kZ",
        "outputId": "5a9e59ae-d232-4743-c9aa-c3b21df29148"
      },
      "source": [
        "from tensorflow.keras.optimizers import Adam\n",
        "\n",
        "model1.compile(optimizer=Adam(lr=0.001), #lr=0.001\n",
        "              loss='binary_crossentropy', \n",
        "              metrics=['acc'])"
      ],
      "execution_count": null,
      "outputs": [
        {
          "output_type": "stream",
          "name": "stderr",
          "text": [
            "/usr/local/lib/python3.7/dist-packages/keras/optimizer_v2/adam.py:105: UserWarning: The `lr` argument is deprecated, use `learning_rate` instead.\n",
            "  super(Adam, self).__init__(name, **kwargs)\n"
          ]
        }
      ]
    },
    {
      "cell_type": "code",
      "metadata": {
        "colab": {
          "base_uri": "https://localhost:8080/"
        },
        "id": "6r_-lklYC9w8",
        "outputId": "2570e05e-3f2f-4a76-d1a3-33df664979d9"
      },
      "source": [
        "N = model1.fit(x_train, y_train, \n",
        "              batch_size=10, \n",
        "              epochs=5, \n",
        "              validation_data=(x_val, y_val))"
      ],
      "execution_count": null,
      "outputs": [
        {
          "output_type": "stream",
          "name": "stdout",
          "text": [
            "Epoch 1/5\n",
            "622/622 [==============================] - 218s 349ms/step - loss: -143683.2188 - acc: 0.2560 - val_loss: -746220.3125 - val_acc: 0.2556\n",
            "Epoch 2/5\n",
            "622/622 [==============================] - 215s 345ms/step - loss: -4520482.5000 - acc: 0.2557 - val_loss: -11494039.0000 - val_acc: 0.2556\n",
            "Epoch 3/5\n",
            "622/622 [==============================] - 212s 341ms/step - loss: -27993604.0000 - acc: 0.2557 - val_loss: -51261364.0000 - val_acc: 0.2556\n",
            "Epoch 4/5\n",
            "622/622 [==============================] - 212s 341ms/step - loss: -90684088.0000 - acc: 0.2557 - val_loss: -140790064.0000 - val_acc: 0.2556\n",
            "Epoch 5/5\n",
            "622/622 [==============================] - 213s 343ms/step - loss: -212048096.0000 - acc: 0.2557 - val_loss: -297199264.0000 - val_acc: 0.2556\n"
          ]
        }
      ]
    },
    {
      "cell_type": "code",
      "metadata": {
        "colab": {
          "base_uri": "https://localhost:8080/",
          "height": 299
        },
        "id": "0Epag5IMLTMl",
        "outputId": "938940bc-bc85-440b-f0d5-c73382aeb17d"
      },
      "source": [
        "#Plot hasil training model berupa hasil validasi akurasi dan Buat report klasifikasi beserta dengan keterangan labelnya\n",
        "import matplotlib.pyplot as plt\n",
        "plt.style.use(\"ggplot\")\n",
        "plt.figure()\n",
        "plt.plot(np.arange(0, 5), N.history[\"acc\"], label=\"acc_model_1\")\n",
        "plt.plot(np.arange(0, 5), N.history[\"val_acc\"], label=\"val_acc_model_1\")\n",
        "plt.title(\"Acc Result Plot\")\n",
        "plt.xlabel(\"Epoch #\")\n",
        "plt.ylabel(\"Acc\")\n",
        "plt.legend()\n",
        "plt.show()"
      ],
      "execution_count": null,
      "outputs": [
        {
          "output_type": "display_data",
          "data": {
            "image/png": "[encoded data removed]",
            "text/plain": [
              "<Figure size 432x288 with 1 Axes>"
            ]
          },
          "metadata": {}
        }
      ]
    },
    {
      "cell_type": "code",
      "metadata": {
        "colab": {
          "base_uri": "https://localhost:8080/",
          "height": 299
        },
        "id": "9jQ8tZnXLYzG",
        "outputId": "b7671b42-4c7f-4460-dfc5-a7880a06ea44"
      },
      "source": [
        "#Plot hasil training model berupa hasil validasi loss dan Buat report klasifikasi beserta dengan keterangan labelnya\n",
        "import matplotlib.pyplot as plt\n",
        "plt.style.use(\"ggplot\")\n",
        "plt.figure()\n",
        "plt.plot(np.arange(0, 5), N.history[\"loss\"], label=\"loss_model_1\")\n",
        "plt.plot(np.arange(0, 5), N.history[\"val_loss\"], label=\"val_loss_model_1\")\n",
        "plt.title(\"Loss Result Plot\")\n",
        "plt.xlabel(\"Epoch #\")\n",
        "plt.ylabel(\"Loss\")\n",
        "plt.legend()\n",
        "plt.show()"
      ],
      "execution_count": null,
      "outputs": [
        {
          "output_type": "display_data",
          "data": {
            "image/png": "[encoded data removed]",
            "text/plain": [
              "<Figure size 432x288 with 1 Axes>"
            ]
          },
          "metadata": {}
        }
      ]
    },
    {
      "cell_type": "code",
      "metadata": {
        "colab": {
          "base_uri": "https://localhost:8080/"
        },
        "id": "UyYualVtLhFD",
        "outputId": "5246c8ed-2ab4-4470-f440-e67a45e5b96a"
      },
      "source": [
        "#model 1\n",
        "from sklearn.metrics import classification_report\n",
        "\n",
        "pred = model1.predict(x_train)\n",
        "labels = (pred > 0.5).astype(np.int)\n",
        "\n",
        "print(classification_report(y_train, labels))"
      ],
      "execution_count": null,
      "outputs": [
        {
          "output_type": "stream",
          "name": "stdout",
          "text": [
            "              precision    recall  f1-score   support\n",
            "\n",
            "           0       0.00      0.00      0.00      1612\n",
            "           1       0.26      1.00      0.41      1589\n",
            "           2       0.00      0.00      0.00      1408\n",
            "           3       0.00      0.00      0.00      1606\n",
            "\n",
            "    accuracy                           0.26      6215\n",
            "   macro avg       0.06      0.25      0.10      6215\n",
            "weighted avg       0.07      0.26      0.10      6215\n",
            "\n"
          ]
        },
        {
          "output_type": "stream",
          "name": "stderr",
          "text": [
            "/usr/local/lib/python3.7/dist-packages/sklearn/metrics/_classification.py:1308: UndefinedMetricWarning: Precision and F-score are ill-defined and being set to 0.0 in labels with no predicted samples. Use `zero_division` parameter to control this behavior.\n",
            "  _warn_prf(average, modifier, msg_start, len(result))\n",
            "/usr/local/lib/python3.7/dist-packages/sklearn/metrics/_classification.py:1308: UndefinedMetricWarning: Precision and F-score are ill-defined and being set to 0.0 in labels with no predicted samples. Use `zero_division` parameter to control this behavior.\n",
            "  _warn_prf(average, modifier, msg_start, len(result))\n",
            "/usr/local/lib/python3.7/dist-packages/sklearn/metrics/_classification.py:1308: UndefinedMetricWarning: Precision and F-score are ill-defined and being set to 0.0 in labels with no predicted samples. Use `zero_division` parameter to control this behavior.\n",
            "  _warn_prf(average, modifier, msg_start, len(result))\n"
          ]
        }
      ]
    }
  ]
}