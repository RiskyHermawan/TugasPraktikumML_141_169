{
  "nbformat": 4,
  "nbformat_minor": 0,
  "metadata": {
    "colab": {
      "name": "Model 1.ipynb",
      "provenance": [],
      "collapsed_sections": [],
      "authorship_tag": "ABX9TyPyLObME2ljKSJRIq+1JHjj",
      "include_colab_link": true
    },
    "kernelspec": {
      "name": "python3",
      "display_name": "Python 3"
    },
    "language_info": {
      "name": "python"
    },
    "accelerator": "GPU"
  },
  "cells": [
    {
      "cell_type": "markdown",
      "metadata": {
        "id": "view-in-github",
        "colab_type": "text"
      },
      "source": [
        "<a href=\"https://colab.research.google.com/github/RiskyHermawan/TugasPraktikumML_141_169/blob/main/Model_1.ipynb\" target=\"_parent\"><img src=\"https://colab.research.google.com/assets/colab-badge.svg\" alt=\"Open In Colab\"/></a>"
      ]
    },
    {
      "cell_type": "code",
      "metadata": {
        "colab": {
          "base_uri": "https://localhost:8080/"
        },
        "id": "6fvdNPBdBfUu",
        "outputId": "a1877839-c0e9-46b2-c5ad-fb42900c5579"
      },
      "source": [
        "from google.colab import drive\n",
        "drive.mount('/content/drive')"
      ],
      "execution_count": 4,
      "outputs": [
        {
          "output_type": "stream",
          "name": "stdout",
          "text": [
            "Drive already mounted at /content/drive; to attempt to forcibly remount, call drive.mount(\"/content/drive\", force_remount=True).\n"
          ]
        }
      ]
    },
    {
      "cell_type": "code",
      "metadata": {
        "colab": {
          "base_uri": "https://localhost:8080/"
        },
        "id": "zmmXxwgvBfLp",
        "outputId": "a8f756ba-cf11-4e08-b030-4a0ed90e1e25"
      },
      "source": [
        "# masuk ke directory penyimpanan dataset anda\n",
        "%cd /content/drive/MyDrive/kaggle"
      ],
      "execution_count": 5,
      "outputs": [
        {
          "output_type": "stream",
          "name": "stdout",
          "text": [
            "/content/drive/MyDrive/kaggle\n"
          ]
        }
      ]
    },
    {
      "cell_type": "code",
      "metadata": {
        "colab": {
          "base_uri": "https://localhost:8080/"
        },
        "id": "FbY5FAZgCDfr",
        "outputId": "2ce0c852-c479-4fcd-cdeb-ef569adf9a41"
      },
      "source": [
        "!ls"
      ],
      "execution_count": 6,
      "outputs": [
        {
          "output_type": "stream",
          "name": "stdout",
          "text": [
            " breakhis-400x.zip\t\t       'SOB_B_A-14-22549AB-400-001 (2).png'\n",
            " cat2dog.zip\t\t\t       'SOB_B_A-14-22549AB-400-001 (3).png'\n",
            " flowers-recognition.zip\t       'SOB_B_A-14-22549AB-400-001 (4).png'\n",
            " kaggle.json\t\t\t       'SOB_B_A-14-22549AB-400-001 (5).png'\n",
            " model.h5\t\t\t       'SOB_B_A-14-22549AB-400-001 (6).png'\n",
            " model.json\t\t\t       'SOB_B_A-14-22549AB-400-001 (7).png'\n",
            " rockpaperscissors.zip\t\t       'SOB_B_A-14-22549AB-400-001 (8).png'\n",
            " rose_new.jpg\t\t\t       'SOB_B_A-14-22549AB-400-001 (9).png'\n",
            "'SOB_B_A-14-22549AB-400-001 (10).png'   SOB_B_A-14-22549AB-400-001.png\n",
            "'SOB_B_A-14-22549AB-400-001 (11).png'   x_test.npy\n",
            "'SOB_B_A-14-22549AB-400-001 (12).png'   x_train.npy\n",
            "'SOB_B_A-14-22549AB-400-001 (13).png'   x_val.npy\n",
            "'SOB_B_A-14-22549AB-400-001 (14).png'   y_test.npy\n",
            "'SOB_B_A-14-22549AB-400-001 (15).png'   y_train.npy\n",
            "'SOB_B_A-14-22549AB-400-001 (16).png'   y_val.npy\n",
            "'SOB_B_A-14-22549AB-400-001 (1).png'\n"
          ]
        }
      ]
    },
    {
      "cell_type": "code",
      "metadata": {
        "id": "KZ_0jfkK-0fz"
      },
      "source": [
        "import numpy as np\n",
        "\n",
        "x_train = np.load(\"x_train.npy\")\n",
        "x_val = np.load(\"x_val.npy\")\n",
        "x_test = np.load(\"x_test.npy\")\n",
        "y_train = np.load(\"y_train.npy\")\n",
        "y_val = np.load(\"y_val.npy\")\n",
        "y_test = np.load(\"y_test.npy\")"
      ],
      "execution_count": 7,
      "outputs": []
    },
    {
      "cell_type": "code",
      "metadata": {
        "id": "Eaz2e7WnCzig"
      },
      "source": [
        "from tensorflow.keras.models import Sequential\n",
        "from tensorflow.keras.layers import InputLayer, Dense, Conv2D, MaxPool2D, Flatten\n",
        "import tensorflow as tf"
      ],
      "execution_count": 8,
      "outputs": []
    },
    {
      "cell_type": "code",
      "metadata": {
        "colab": {
          "base_uri": "https://localhost:8080/"
        },
        "id": "DgB4-KXXC0H6",
        "outputId": "52c2ca4b-1bae-4f17-90d6-99ac9670fcdc"
      },
      "source": [
        "#model1 \n",
        "model1 = tf.keras.models.Sequential([\n",
        "    tf.keras.layers.Conv2D(32, (3,3), activation='relu', input_shape=(250, 250, 3)),\n",
        "    tf.keras.layers.MaxPooling2D(2, 2), #metode maxpooling mengambil nilai maksium pergerseran pixel yang ada\n",
        "    tf.keras.layers.GlobalMaxPooling2D(), #globalmaxpooling\n",
        "    tf.keras.layers.Flatten(),\n",
        "    tf.keras.layers.Dense(32, activation='relu'),\n",
        "    tf.keras.layers.Dense(64, activation='relu'),\n",
        "    tf.keras.layers.Dense(128, activation='relu'),\n",
        "    tf.keras.layers.Dense(1, activation='sigmoid')\n",
        "])\n",
        "\n",
        "print (\"Model 1 metode maxpooling\")\n",
        "model1.summary()"
      ],
      "execution_count": 9,
      "outputs": [
        {
          "output_type": "stream",
          "name": "stdout",
          "text": [
            "Model 1 metode maxpooling\n",
            "Model: \"sequential\"\n",
            "_________________________________________________________________\n",
            "Layer (type)                 Output Shape              Param #   \n",
            "=================================================================\n",
            "conv2d (Conv2D)              (None, 248, 248, 32)      896       \n",
            "_________________________________________________________________\n",
            "max_pooling2d (MaxPooling2D) (None, 124, 124, 32)      0         \n",
            "_________________________________________________________________\n",
            "global_max_pooling2d (Global (None, 32)                0         \n",
            "_________________________________________________________________\n",
            "flatten (Flatten)            (None, 32)                0         \n",
            "_________________________________________________________________\n",
            "dense (Dense)                (None, 32)                1056      \n",
            "_________________________________________________________________\n",
            "dense_1 (Dense)              (None, 64)                2112      \n",
            "_________________________________________________________________\n",
            "dense_2 (Dense)              (None, 128)               8320      \n",
            "_________________________________________________________________\n",
            "dense_3 (Dense)              (None, 1)                 129       \n",
            "=================================================================\n",
            "Total params: 12,513\n",
            "Trainable params: 12,513\n",
            "Non-trainable params: 0\n",
            "_________________________________________________________________\n"
          ]
        }
      ]
    },
    {
      "cell_type": "code",
      "metadata": {
        "colab": {
          "base_uri": "https://localhost:8080/"
        },
        "id": "RAYZV3aHC8kZ",
        "outputId": "42e788ff-4caf-49ae-a165-bb969a79a65d"
      },
      "source": [
        "from tensorflow.keras.optimizers import Adam\n",
        "\n",
        "model1.compile(optimizer=Adam(lr=0.001), #lr=0.001\n",
        "              loss='binary_crossentropy', \n",
        "              metrics=['acc'])"
      ],
      "execution_count": 10,
      "outputs": [
        {
          "output_type": "stream",
          "name": "stderr",
          "text": [
            "/usr/local/lib/python3.7/dist-packages/keras/optimizer_v2/optimizer_v2.py:356: UserWarning: The `lr` argument is deprecated, use `learning_rate` instead.\n",
            "  \"The `lr` argument is deprecated, use `learning_rate` instead.\")\n"
          ]
        }
      ]
    },
    {
      "cell_type": "code",
      "metadata": {
        "colab": {
          "base_uri": "https://localhost:8080/"
        },
        "id": "6r_-lklYC9w8",
        "outputId": "d86e9745-71e5-4b9a-a2e0-0bd265e18d09"
      },
      "source": [
        "N = model1.fit(x_train, y_train, \n",
        "              batch_size=32, \n",
        "              epochs=100, \n",
        "              validation_data=(x_val, y_val), \n",
        "              verbose=2)"
      ],
      "execution_count": 11,
      "outputs": [
        {
          "output_type": "stream",
          "name": "stdout",
          "text": [
            "Epoch 1/100\n",
            "108/108 - 37s - loss: -5.7470e+02 - acc: 0.2425 - val_loss: -3.9157e+03 - val_acc: 0.2436\n",
            "Epoch 2/100\n",
            "108/108 - 5s - loss: -7.5066e+04 - acc: 0.2436 - val_loss: -2.6667e+05 - val_acc: 0.2436\n",
            "Epoch 3/100\n",
            "108/108 - 5s - loss: -1.2098e+06 - acc: 0.2436 - val_loss: -3.0317e+06 - val_acc: 0.2436\n",
            "Epoch 4/100\n",
            "108/108 - 5s - loss: -7.8789e+06 - acc: 0.2436 - val_loss: -1.5605e+07 - val_acc: 0.2436\n",
            "Epoch 5/100\n",
            "108/108 - 5s - loss: -3.1545e+07 - acc: 0.2436 - val_loss: -5.4060e+07 - val_acc: 0.2436\n",
            "Epoch 6/100\n",
            "108/108 - 5s - loss: -9.2680e+07 - acc: 0.2436 - val_loss: -1.4368e+08 - val_acc: 0.2436\n",
            "Epoch 7/100\n",
            "108/108 - 5s - loss: -2.2128e+08 - acc: 0.2436 - val_loss: -3.2066e+08 - val_acc: 0.2436\n",
            "Epoch 8/100\n",
            "108/108 - 5s - loss: -4.5986e+08 - acc: 0.2436 - val_loss: -6.3093e+08 - val_acc: 0.2436\n",
            "Epoch 9/100\n",
            "108/108 - 5s - loss: -8.6140e+08 - acc: 0.2436 - val_loss: -1.1368e+09 - val_acc: 0.2436\n",
            "Epoch 10/100\n",
            "108/108 - 5s - loss: -1.4896e+09 - acc: 0.2436 - val_loss: -1.9039e+09 - val_acc: 0.2436\n",
            "Epoch 11/100\n",
            "108/108 - 5s - loss: -2.4189e+09 - acc: 0.2436 - val_loss: -3.0169e+09 - val_acc: 0.2436\n",
            "Epoch 12/100\n",
            "108/108 - 5s - loss: -3.7299e+09 - acc: 0.2436 - val_loss: -4.5528e+09 - val_acc: 0.2436\n",
            "Epoch 13/100\n",
            "108/108 - 5s - loss: -5.5016e+09 - acc: 0.2436 - val_loss: -6.5897e+09 - val_acc: 0.2436\n",
            "Epoch 14/100\n",
            "108/108 - 5s - loss: -7.8434e+09 - acc: 0.2436 - val_loss: -9.2553e+09 - val_acc: 0.2436\n",
            "Epoch 15/100\n",
            "108/108 - 5s - loss: -1.0859e+10 - acc: 0.2436 - val_loss: -1.2696e+10 - val_acc: 0.2436\n",
            "Epoch 16/100\n",
            "108/108 - 5s - loss: -1.4682e+10 - acc: 0.2436 - val_loss: -1.6972e+10 - val_acc: 0.2436\n",
            "Epoch 17/100\n",
            "108/108 - 5s - loss: -1.9412e+10 - acc: 0.2436 - val_loss: -2.2172e+10 - val_acc: 0.2436\n",
            "Epoch 18/100\n",
            "108/108 - 5s - loss: -2.5175e+10 - acc: 0.2436 - val_loss: -2.8566e+10 - val_acc: 0.2436\n",
            "Epoch 19/100\n",
            "108/108 - 5s - loss: -3.2134e+10 - acc: 0.2436 - val_loss: -3.6154e+10 - val_acc: 0.2436\n",
            "Epoch 20/100\n",
            "108/108 - 5s - loss: -4.0396e+10 - acc: 0.2436 - val_loss: -4.5091e+10 - val_acc: 0.2436\n",
            "Epoch 21/100\n",
            "108/108 - 5s - loss: -5.0069e+10 - acc: 0.2436 - val_loss: -5.5669e+10 - val_acc: 0.2436\n",
            "Epoch 22/100\n",
            "108/108 - 5s - loss: -6.1337e+10 - acc: 0.2436 - val_loss: -6.7774e+10 - val_acc: 0.2436\n",
            "Epoch 23/100\n",
            "108/108 - 5s - loss: -7.4317e+10 - acc: 0.2436 - val_loss: -8.1798e+10 - val_acc: 0.2436\n",
            "Epoch 24/100\n",
            "108/108 - 5s - loss: -8.9259e+10 - acc: 0.2436 - val_loss: -9.7626e+10 - val_acc: 0.2436\n",
            "Epoch 25/100\n",
            "108/108 - 5s - loss: -1.0623e+11 - acc: 0.2436 - val_loss: -1.1576e+11 - val_acc: 0.2436\n",
            "Epoch 26/100\n",
            "108/108 - 5s - loss: -1.2541e+11 - acc: 0.2436 - val_loss: -1.3625e+11 - val_acc: 0.2436\n",
            "Epoch 27/100\n",
            "108/108 - 5s - loss: -1.4703e+11 - acc: 0.2436 - val_loss: -1.5928e+11 - val_acc: 0.2436\n",
            "Epoch 28/100\n",
            "108/108 - 5s - loss: -1.7119e+11 - acc: 0.2436 - val_loss: -1.8488e+11 - val_acc: 0.2436\n",
            "Epoch 29/100\n",
            "108/108 - 5s - loss: -1.9803e+11 - acc: 0.2436 - val_loss: -2.1317e+11 - val_acc: 0.2436\n",
            "Epoch 30/100\n",
            "108/108 - 5s - loss: -2.2775e+11 - acc: 0.2436 - val_loss: -2.4450e+11 - val_acc: 0.2436\n",
            "Epoch 31/100\n",
            "108/108 - 5s - loss: -2.6061e+11 - acc: 0.2436 - val_loss: -2.7888e+11 - val_acc: 0.2436\n",
            "Epoch 32/100\n",
            "108/108 - 5s - loss: -2.9683e+11 - acc: 0.2436 - val_loss: -3.1704e+11 - val_acc: 0.2436\n",
            "Epoch 33/100\n",
            "108/108 - 5s - loss: -3.3663e+11 - acc: 0.2436 - val_loss: -3.5882e+11 - val_acc: 0.2436\n",
            "Epoch 34/100\n",
            "108/108 - 5s - loss: -3.8002e+11 - acc: 0.2436 - val_loss: -4.0401e+11 - val_acc: 0.2436\n",
            "Epoch 35/100\n",
            "108/108 - 5s - loss: -4.2733e+11 - acc: 0.2436 - val_loss: -4.5370e+11 - val_acc: 0.2436\n",
            "Epoch 36/100\n",
            "108/108 - 5s - loss: -4.7883e+11 - acc: 0.2436 - val_loss: -5.0757e+11 - val_acc: 0.2436\n",
            "Epoch 37/100\n",
            "108/108 - 5s - loss: -5.3470e+11 - acc: 0.2436 - val_loss: -5.6578e+11 - val_acc: 0.2436\n",
            "Epoch 38/100\n",
            "108/108 - 5s - loss: -5.9508e+11 - acc: 0.2436 - val_loss: -6.2826e+11 - val_acc: 0.2436\n",
            "Epoch 39/100\n",
            "108/108 - 5s - loss: -6.6014e+11 - acc: 0.2436 - val_loss: -6.9601e+11 - val_acc: 0.2436\n",
            "Epoch 40/100\n",
            "108/108 - 5s - loss: -7.3007e+11 - acc: 0.2436 - val_loss: -7.6929e+11 - val_acc: 0.2436\n",
            "Epoch 41/100\n",
            "108/108 - 5s - loss: -8.0536e+11 - acc: 0.2436 - val_loss: -8.4701e+11 - val_acc: 0.2436\n",
            "Epoch 42/100\n",
            "108/108 - 5s - loss: -8.8579e+11 - acc: 0.2436 - val_loss: -9.3018e+11 - val_acc: 0.2436\n",
            "Epoch 43/100\n",
            "108/108 - 5s - loss: -9.7178e+11 - acc: 0.2436 - val_loss: -1.0197e+12 - val_acc: 0.2436\n",
            "Epoch 44/100\n",
            "108/108 - 5s - loss: -1.0636e+12 - acc: 0.2436 - val_loss: -1.1153e+12 - val_acc: 0.2436\n",
            "Epoch 45/100\n",
            "108/108 - 5s - loss: -1.1617e+12 - acc: 0.2436 - val_loss: -1.2162e+12 - val_acc: 0.2436\n",
            "Epoch 46/100\n",
            "108/108 - 5s - loss: -1.2663e+12 - acc: 0.2436 - val_loss: -1.3249e+12 - val_acc: 0.2436\n",
            "Epoch 47/100\n",
            "108/108 - 5s - loss: -1.3776e+12 - acc: 0.2436 - val_loss: -1.4392e+12 - val_acc: 0.2436\n",
            "Epoch 48/100\n",
            "108/108 - 5s - loss: -1.4959e+12 - acc: 0.2436 - val_loss: -1.5611e+12 - val_acc: 0.2436\n",
            "Epoch 49/100\n",
            "108/108 - 5s - loss: -1.6213e+12 - acc: 0.2436 - val_loss: -1.6908e+12 - val_acc: 0.2436\n",
            "Epoch 50/100\n",
            "108/108 - 5s - loss: -1.7539e+12 - acc: 0.2436 - val_loss: -1.8283e+12 - val_acc: 0.2436\n",
            "Epoch 51/100\n",
            "108/108 - 5s - loss: -1.8943e+12 - acc: 0.2436 - val_loss: -1.9727e+12 - val_acc: 0.2436\n",
            "Epoch 52/100\n",
            "108/108 - 5s - loss: -2.0424e+12 - acc: 0.2436 - val_loss: -2.1254e+12 - val_acc: 0.2436\n",
            "Epoch 53/100\n",
            "108/108 - 5s - loss: -2.1988e+12 - acc: 0.2436 - val_loss: -2.2860e+12 - val_acc: 0.2436\n",
            "Epoch 54/100\n",
            "108/108 - 5s - loss: -2.3638e+12 - acc: 0.2436 - val_loss: -2.4552e+12 - val_acc: 0.2436\n",
            "Epoch 55/100\n",
            "108/108 - 5s - loss: -2.5375e+12 - acc: 0.2436 - val_loss: -2.6343e+12 - val_acc: 0.2436\n",
            "Epoch 56/100\n",
            "108/108 - 5s - loss: -2.7206e+12 - acc: 0.2436 - val_loss: -2.8216e+12 - val_acc: 0.2436\n",
            "Epoch 57/100\n",
            "108/108 - 5s - loss: -2.9131e+12 - acc: 0.2436 - val_loss: -3.0204e+12 - val_acc: 0.2436\n",
            "Epoch 58/100\n",
            "108/108 - 5s - loss: -3.1154e+12 - acc: 0.2436 - val_loss: -3.2283e+12 - val_acc: 0.2436\n",
            "Epoch 59/100\n",
            "108/108 - 5s - loss: -3.3279e+12 - acc: 0.2436 - val_loss: -3.4469e+12 - val_acc: 0.2436\n",
            "Epoch 60/100\n",
            "108/108 - 5s - loss: -3.5509e+12 - acc: 0.2436 - val_loss: -3.6745e+12 - val_acc: 0.2436\n",
            "Epoch 61/100\n",
            "108/108 - 5s - loss: -3.7841e+12 - acc: 0.2436 - val_loss: -3.9159e+12 - val_acc: 0.2436\n",
            "Epoch 62/100\n",
            "108/108 - 5s - loss: -4.0290e+12 - acc: 0.2436 - val_loss: -4.1662e+12 - val_acc: 0.2436\n",
            "Epoch 63/100\n",
            "108/108 - 5s - loss: -4.2852e+12 - acc: 0.2436 - val_loss: -4.4282e+12 - val_acc: 0.2436\n",
            "Epoch 64/100\n",
            "108/108 - 5s - loss: -4.5529e+12 - acc: 0.2436 - val_loss: -4.7019e+12 - val_acc: 0.2436\n",
            "Epoch 65/100\n",
            "108/108 - 5s - loss: -4.8324e+12 - acc: 0.2436 - val_loss: -4.9884e+12 - val_acc: 0.2436\n",
            "Epoch 66/100\n",
            "108/108 - 5s - loss: -5.1237e+12 - acc: 0.2436 - val_loss: -5.2881e+12 - val_acc: 0.2436\n",
            "Epoch 67/100\n",
            "108/108 - 5s - loss: -5.4279e+12 - acc: 0.2436 - val_loss: -5.5989e+12 - val_acc: 0.2436\n",
            "Epoch 68/100\n",
            "108/108 - 5s - loss: -5.7449e+12 - acc: 0.2436 - val_loss: -5.9229e+12 - val_acc: 0.2436\n",
            "Epoch 69/100\n",
            "108/108 - 5s - loss: -6.0753e+12 - acc: 0.2436 - val_loss: -6.2621e+12 - val_acc: 0.2436\n",
            "Epoch 70/100\n",
            "108/108 - 5s - loss: -6.4197e+12 - acc: 0.2436 - val_loss: -6.6142e+12 - val_acc: 0.2436\n",
            "Epoch 71/100\n",
            "108/108 - 5s - loss: -6.7783e+12 - acc: 0.2436 - val_loss: -6.9789e+12 - val_acc: 0.2436\n",
            "Epoch 72/100\n",
            "108/108 - 5s - loss: -7.1508e+12 - acc: 0.2436 - val_loss: -7.3610e+12 - val_acc: 0.2436\n",
            "Epoch 73/100\n",
            "108/108 - 5s - loss: -7.5380e+12 - acc: 0.2436 - val_loss: -7.7577e+12 - val_acc: 0.2436\n",
            "Epoch 74/100\n",
            "108/108 - 5s - loss: -7.9413e+12 - acc: 0.2436 - val_loss: -8.1678e+12 - val_acc: 0.2436\n",
            "Epoch 75/100\n",
            "108/108 - 5s - loss: -8.3598e+12 - acc: 0.2436 - val_loss: -8.5965e+12 - val_acc: 0.2436\n",
            "Epoch 76/100\n",
            "108/108 - 5s - loss: -8.7950e+12 - acc: 0.2436 - val_loss: -9.0407e+12 - val_acc: 0.2436\n",
            "Epoch 77/100\n",
            "108/108 - 5s - loss: -9.2460e+12 - acc: 0.2436 - val_loss: -9.5043e+12 - val_acc: 0.2436\n",
            "Epoch 78/100\n",
            "108/108 - 5s - loss: -9.7141e+12 - acc: 0.2436 - val_loss: -9.9804e+12 - val_acc: 0.2436\n",
            "Epoch 79/100\n",
            "108/108 - 5s - loss: -1.0199e+13 - acc: 0.2436 - val_loss: -1.0476e+13 - val_acc: 0.2436\n",
            "Epoch 80/100\n",
            "108/108 - 5s - loss: -1.0702e+13 - acc: 0.2436 - val_loss: -1.0989e+13 - val_acc: 0.2436\n",
            "Epoch 81/100\n",
            "108/108 - 5s - loss: -1.1223e+13 - acc: 0.2436 - val_loss: -1.1520e+13 - val_acc: 0.2436\n",
            "Epoch 82/100\n",
            "108/108 - 5s - loss: -1.1762e+13 - acc: 0.2436 - val_loss: -1.2070e+13 - val_acc: 0.2436\n",
            "Epoch 83/100\n",
            "108/108 - 5s - loss: -1.2320e+13 - acc: 0.2436 - val_loss: -1.2640e+13 - val_acc: 0.2436\n",
            "Epoch 84/100\n",
            "108/108 - 5s - loss: -1.2898e+13 - acc: 0.2436 - val_loss: -1.3230e+13 - val_acc: 0.2436\n",
            "Epoch 85/100\n",
            "108/108 - 5s - loss: -1.3497e+13 - acc: 0.2436 - val_loss: -1.3838e+13 - val_acc: 0.2436\n",
            "Epoch 86/100\n",
            "108/108 - 5s - loss: -1.4116e+13 - acc: 0.2436 - val_loss: -1.4466e+13 - val_acc: 0.2436\n",
            "Epoch 87/100\n",
            "108/108 - 5s - loss: -1.4757e+13 - acc: 0.2436 - val_loss: -1.5119e+13 - val_acc: 0.2436\n",
            "Epoch 88/100\n",
            "108/108 - 5s - loss: -1.5418e+13 - acc: 0.2436 - val_loss: -1.5800e+13 - val_acc: 0.2436\n",
            "Epoch 89/100\n",
            "108/108 - 5s - loss: -1.6103e+13 - acc: 0.2436 - val_loss: -1.6496e+13 - val_acc: 0.2436\n",
            "Epoch 90/100\n",
            "108/108 - 5s - loss: -1.6808e+13 - acc: 0.2436 - val_loss: -1.7216e+13 - val_acc: 0.2436\n",
            "Epoch 91/100\n",
            "108/108 - 5s - loss: -1.7537e+13 - acc: 0.2436 - val_loss: -1.7958e+13 - val_acc: 0.2436\n",
            "Epoch 92/100\n",
            "108/108 - 5s - loss: -1.8290e+13 - acc: 0.2436 - val_loss: -1.8723e+13 - val_acc: 0.2436\n",
            "Epoch 93/100\n",
            "108/108 - 5s - loss: -1.9067e+13 - acc: 0.2436 - val_loss: -1.9511e+13 - val_acc: 0.2436\n",
            "Epoch 94/100\n",
            "108/108 - 5s - loss: -1.9867e+13 - acc: 0.2436 - val_loss: -2.0328e+13 - val_acc: 0.2436\n",
            "Epoch 95/100\n",
            "108/108 - 5s - loss: -2.0691e+13 - acc: 0.2436 - val_loss: -2.1166e+13 - val_acc: 0.2436\n",
            "Epoch 96/100\n",
            "108/108 - 5s - loss: -2.1541e+13 - acc: 0.2436 - val_loss: -2.2035e+13 - val_acc: 0.2436\n",
            "Epoch 97/100\n",
            "108/108 - 5s - loss: -2.2418e+13 - acc: 0.2436 - val_loss: -2.2922e+13 - val_acc: 0.2436\n",
            "Epoch 98/100\n",
            "108/108 - 5s - loss: -2.3322e+13 - acc: 0.2436 - val_loss: -2.3843e+13 - val_acc: 0.2436\n",
            "Epoch 99/100\n",
            "108/108 - 5s - loss: -2.4251e+13 - acc: 0.2436 - val_loss: -2.4789e+13 - val_acc: 0.2436\n",
            "Epoch 100/100\n",
            "108/108 - 5s - loss: -2.5208e+13 - acc: 0.2436 - val_loss: -2.5760e+13 - val_acc: 0.2436\n"
          ]
        }
      ]
    },
    {
      "cell_type": "code",
      "metadata": {
        "colab": {
          "base_uri": "https://localhost:8080/",
          "height": 298
        },
        "id": "0Epag5IMLTMl",
        "outputId": "2048e759-79fe-411f-fe2d-f37666d48fa1"
      },
      "source": [
        "#Plot hasil training model berupa hasil validasi akurasi dan Buat report klasifikasi beserta dengan keterangan labelnya\n",
        "import matplotlib.pyplot as plt\n",
        "plt.style.use(\"ggplot\")\n",
        "plt.figure()\n",
        "plt.plot(np.arange(0, 100), N.history[\"acc\"], label=\"acc_model_1\")\n",
        "plt.plot(np.arange(0, 100), N.history[\"val_acc\"], label=\"val_acc_model_1\")\n",
        "plt.title(\"Acc Result Plot\")\n",
        "plt.xlabel(\"Epoch #\")\n",
        "plt.ylabel(\"Acc\")\n",
        "plt.legend()\n",
        "plt.show()"
      ],
      "execution_count": 12,
      "outputs": [
        {
          "output_type": "display_data",
          "data": {
            "image/png": "[encoded data removed]",
            "text/plain": [
              "<Figure size 432x288 with 1 Axes>"
            ]
          },
          "metadata": {}
        }
      ]
    },
    {
      "cell_type": "code",
      "metadata": {
        "colab": {
          "base_uri": "https://localhost:8080/",
          "height": 298
        },
        "id": "9jQ8tZnXLYzG",
        "outputId": "b2bd1472-2dc4-4f49-9e15-d7e3b551f817"
      },
      "source": [
        "#Plot hasil training model berupa hasil validasi loss dan Buat report klasifikasi beserta dengan keterangan labelnya\n",
        "import matplotlib.pyplot as plt\n",
        "plt.style.use(\"ggplot\")\n",
        "plt.figure()\n",
        "plt.plot(np.arange(0, 100), N.history[\"loss\"], label=\"loss_model_1\")\n",
        "plt.plot(np.arange(0, 100), N.history[\"val_loss\"], label=\"val_loss_model_1\")\n",
        "plt.title(\"Loss Result Plot\")\n",
        "plt.xlabel(\"Epoch #\")\n",
        "plt.ylabel(\"Loss\")\n",
        "plt.legend()\n",
        "plt.show()"
      ],
      "execution_count": 13,
      "outputs": [
        {
          "output_type": "display_data",
          "data": {
            "image/png": "[encoded data removed]",
            "text/plain": [
              "<Figure size 432x288 with 1 Axes>"
            ]
          },
          "metadata": {}
        }
      ]
    },
    {
      "cell_type": "code",
      "metadata": {
        "colab": {
          "base_uri": "https://localhost:8080/"
        },
        "id": "UyYualVtLhFD",
        "outputId": "7c68bf60-0c0b-4248-cc0c-9b1dfa20d308"
      },
      "source": [
        "#model 1\n",
        "from sklearn.metrics import classification_report\n",
        "\n",
        "pred = model1.predict(x_train)\n",
        "labels = (pred > 0.5).astype(np.int)\n",
        "\n",
        "print(classification_report(y_train, labels))"
      ],
      "execution_count": 14,
      "outputs": [
        {
          "output_type": "stream",
          "name": "stdout",
          "text": [
            "              precision    recall  f1-score   support\n",
            "\n",
            "           0       0.00      0.00      0.00       611\n",
            "           1       0.24      1.00      0.39       841\n",
            "           2       0.00      0.00      0.00       627\n",
            "           3       0.00      0.00      0.00       586\n",
            "           4       0.00      0.00      0.00       787\n",
            "\n",
            "    accuracy                           0.24      3452\n",
            "   macro avg       0.05      0.20      0.08      3452\n",
            "weighted avg       0.06      0.24      0.10      3452\n",
            "\n"
          ]
        },
        {
          "output_type": "stream",
          "name": "stderr",
          "text": [
            "/usr/local/lib/python3.7/dist-packages/sklearn/metrics/_classification.py:1272: UndefinedMetricWarning: Precision and F-score are ill-defined and being set to 0.0 in labels with no predicted samples. Use `zero_division` parameter to control this behavior.\n",
            "  _warn_prf(average, modifier, msg_start, len(result))\n"
          ]
        }
      ]
    }
  ]
}